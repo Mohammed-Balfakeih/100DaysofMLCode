{
 "cells": [
  {
   "cell_type": "code",
   "execution_count": 1,
   "metadata": {},
   "outputs": [],
   "source": [
    "import cv2\n",
    "import numpy as np\n",
    "\n",
    "img = cv2.imread('thumbsup.jpeg') # =0\n",
    "# IMREAD_COLOR =-1\n",
    "# IMREAD_UNCHANGED = -1"
   ]
  },
  {
   "cell_type": "code",
   "execution_count": null,
   "metadata": {},
   "outputs": [],
   "source": [
    "cv2.imshow('image:', img)\n",
    "cv2.waitKey(0)\n",
    "cv2.destroyAllWindows()"
   ]
  },
  {
   "cell_type": "code",
   "execution_count": null,
   "metadata": {},
   "outputs": [],
   "source": [
    "# Video\n",
    "import cv2\n",
    "cap = cv2.VideoCapture(0)\n",
    "\n",
    "while True:\n",
    "    ret, frame = cap.read()\n",
    "    gray = cv2.cvtColor(frame,cv2.COLOR_BGR2GRAY) # Convert color\n",
    "    cv2.imshow('frame',frame)\n",
    "    cv2.imshow('gray', gray)\n",
    "    \n",
    "    if cv2.waitKey(1) and 0xFF == ord('q'):\n",
    "        break\n",
    "cap.release()\n",
    "cap.destroyAllWindows()"
   ]
  },
  {
   "cell_type": "code",
   "execution_count": null,
   "metadata": {},
   "outputs": [],
   "source": [
    "# Drawing on an image\n",
    "import numpy as np\n",
    "import cv2\n",
    "img = cv2.imread('thumbsup.jpeg', cv2.IMREAD_COLOR)\n",
    "\n",
    "cv2.line(img, (0,0), (150,150), (255,255,255), 15)\n",
    "\n",
    "cv2.rectangle(img, (15,25), (200,150), (0,255,0),5)\n",
    "\n",
    "cv2.circle(img, (100,63), 55, (0,0,255), -1) # negative line width fills in circle\n",
    "\n",
    "pts = np.array([[10,5], [20,30], [70,20], [50,10]], np.int32)\n",
    "pts = pts.reshape((-1,1,2))\n",
    "cv2.polylines(img, [pts], True, (0,255,255), 3)\n",
    "\n",
    "font = cv2.FONT_HERSHEY_SIMPLEX\n",
    "cv2.putText(img, 'OpenCV Tuts!', (0,130), font, 1, (200,255,255), 2 , cv2.LINE_AA)\n",
    "cv2.imshow('image', img)\n",
    "cv2.waitKey(0)\n",
    "cv2.destroyAllWindows()"
   ]
  },
  {
   "cell_type": "code",
   "execution_count": null,
   "metadata": {},
   "outputs": [],
   "source": [
    "import numpy as np\n",
    "import cv2\n",
    "img = cv2.imread('thumbsup.jpeg', cv2.IMREAD_COLOR)\n",
    "\n",
    "px = img[55,55]\n",
    "\n",
    "img[55,55] = [255,255,255]\n",
    "\n",
    "#Region of image (ROI)\n",
    "roi = img[100:150,100:150]\n",
    "\n",
    "\n",
    "cv2.imshow('image',img)\n",
    "cv2.waitKey(0)\n",
    "cv2.destroyAllWindows()"
   ]
  },
  {
   "cell_type": "code",
   "execution_count": null,
   "metadata": {},
   "outputs": [],
   "source": [
    "import cv2\n",
    "import numpy as np\n",
    "img1 = cv2.imread('thumbsup.jpeg')\n",
    "img2 = cv2.imread('thumbright.jpeg')\n",
    "\n",
    "rows,cols,channels = img2.shape\n",
    "roi = img1[0:rows,0:cols]\n",
    "\n",
    "img2gray = cv2.cvtColor(img2, cv2.COLOR_BGR2GRAY)\n",
    "\n",
    "ret, mask = cv2.threshold(img2gray, 220, 255, cv2.THRESH_BINARY_INV )\n",
    "#add = img1 + img2\n",
    "#add = cv2.add(img1,img2) #added pixel values if over 255 then 255\n",
    "\n",
    "#weighted = cv2.addWeighted(img1, 0.6, img2, 0.4, 0)\n",
    "cv2.imshow('mask ', mask)\n",
    "cv2.waitKey(0)\n",
    "cv2.destroyAllWindows"
   ]
  },
  {
   "cell_type": "code",
   "execution_count": null,
   "metadata": {},
   "outputs": [],
   "source": [
    "import cv2\n",
    "import matplotlib.pyplot as plt\n",
    "import numpy as np\n",
    "from math import cos, sin\n",
    "from __future__ import division\n",
    "\n",
    "def find_thumbup(image):\n",
    "    image = cv2.cvtColor(image, cv2.COLOR_BGR2RGB)\n",
    "    \n",
    "    #Scaling image\n",
    "    max_dimension = max(image.shape)\n",
    "    scale = 700/max_dimension\n",
    "    image = cv2.resize(image,None,fx=scale, fy=scale)\n",
    "    \n",
    "    #Clean image\n",
    "    image_blur = cv2.GaussianBlur(image, (7,7),0)\n",
    "    image_blur_hsv = cv2.cvtColor(image_blur, cv2.COLOR_RGB2HSV)\n",
    "    \n",
    "    #define filters\n",
    "    min_skin = np.array([0,100,7.8])\n",
    "    max_skin = np.array([0,31.2,62.7])\n",
    "    \n",
    "    mask1 = cv2.inRange(image_blur_hsv, min_red, max_red)\n",
    "    \n",
    "   "
   ]
  }
 ],
 "metadata": {
  "kernelspec": {
   "display_name": "Python 3",
   "language": "python",
   "name": "python3"
  },
  "language_info": {
   "codemirror_mode": {
    "name": "ipython",
    "version": 3
   },
   "file_extension": ".py",
   "mimetype": "text/x-python",
   "name": "python",
   "nbconvert_exporter": "python",
   "pygments_lexer": "ipython3",
   "version": "3.6.6"
  }
 },
 "nbformat": 4,
 "nbformat_minor": 2
}
